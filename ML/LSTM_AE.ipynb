{
  "nbformat": 4,
  "nbformat_minor": 0,
  "metadata": {
    "colab": {
      "name": "LSTM_AE.ipynb",
      "provenance": []
    },
    "kernelspec": {
      "display_name": "Python 3",
      "name": "python3"
    },
    "language_info": {
      "name": "python"
    }
  },
  "cells": [
    {
      "cell_type": "code",
      "metadata": {
        "id": "S0Tot-Xesaau"
      },
      "source": [
        "import numpy as np\n",
        "import keras\n",
        "from keras.models import Sequential\n",
        "from keras.layers import LSTM\n",
        "from keras.layers import Dense\n",
        "from keras.layers import RepeatVector\n",
        "from keras.layers import TimeDistributed\n",
        "import json\n",
        "import pandas as pd\n",
        "import matplotlib.pyplot as plt\n",
        "import numpy as np"
      ],
      "execution_count": null,
      "outputs": []
    },
    {
      "cell_type": "markdown",
      "metadata": {
        "id": "9xZymjJ0vl3d"
      },
      "source": [
        "#Read Data"
      ]
    },
    {
      "cell_type": "code",
      "metadata": {
        "id": "UzxGFyTqvlIQ"
      },
      "source": [
        "def dropConfidence(df):\n",
        "    drop_idx = list(range(2, df.shape[1], 3))\n",
        "    df = df.drop(drop_idx, axis=1)\n",
        "    return df\n",
        "\n",
        "def getXcoords(df):\n",
        "    drop_idx = list(range(1, df.shape[1], 2))\n",
        "    df = df.drop(drop_idx, axis=1)\n",
        "    return df\n",
        "\n",
        "def getYcoords(df):\n",
        "    drop_idx = list(range(0, df.shape[1], 2))\n",
        "    df = df.drop(drop_idx, axis=1)\n",
        "    return df\n"
      ],
      "execution_count": null,
      "outputs": []
    },
    {
      "cell_type": "code",
      "metadata": {
        "id": "ftuGKun2vwZu"
      },
      "source": [
        "def getData():\n",
        "    with open(\"keypoints5.json\") as jsonFile:\n",
        "        jsonObject1 = json.load(jsonFile)\n",
        "        jsonFile.close()\n",
        "        #print((len(jsonObject1)))\n",
        "        df = pd.DataFrame.from_records(jsonObject1)\n",
        "        df = dropConfidence(df)\n",
        "        df.columns = np.arange(len(df.columns))\n",
        "        #print(df)\n",
        "        x = getXcoords(df)\n",
        "        #print(x.loc[0])\n",
        "        y = getYcoords(df)\n",
        "        print(df.shape[0])\n",
        "        for i in range(df.shape[0]):\n",
        "            #print(\"i:\", i)\n",
        "            fig, ax = plt.subplots()\n",
        "            #fig.set_size_inches(18.5, 10.5)\n",
        "            x_vals = x.loc[i]\n",
        "            y_vals = y.loc[i]\n",
        "            ax.plot(x_vals, y_vals, 'x')\n",
        "            fail_list= []\n",
        "            for j in range(25):\n",
        "              if x_vals.iloc[j] == 0:\n",
        "                fail_list.append(j)\n",
        "              plt.annotate(str(j), (x_vals.iloc[j], y_vals.iloc[j]))\n",
        "            print(fail_list)\n",
        "            ax.set_ylim(ax.get_ylim()[::-1])\n",
        "            #ax.set_xbound(lower=1000, upper=2000)\n",
        "            #plt.title('%s Plot' %i)\n",
        "            #plt.savefig('plot/%s Plot' %i)\n",
        "            #ax[1].invert_yaxis()\n",
        "            #plt.show()\n",
        "            plt.close(fig)\n",
        "    return df            "
      ],
      "execution_count": null,
      "outputs": []
    },
    {
      "cell_type": "code",
      "metadata": {
        "id": "aZ_SlTn4Q2Iw"
      },
      "source": [
        "df = getData()\n"
      ],
      "execution_count": null,
      "outputs": []
    },
    {
      "cell_type": "code",
      "metadata": {
        "id": "cg9skQpbDIEn"
      },
      "source": [
        "!zip -r /plot.zip /content/plot"
      ],
      "execution_count": null,
      "outputs": []
    },
    {
      "cell_type": "code",
      "metadata": {
        "id": "AgOmts5YCnhB"
      },
      "source": [
        "from google.colab import drive\n",
        "drive.mount('/content/drive')"
      ],
      "execution_count": null,
      "outputs": []
    },
    {
      "cell_type": "code",
      "metadata": {
        "id": "VAHJdPNJM8cp"
      },
      "source": [
        "data = np.ndarray([])"
      ],
      "execution_count": null,
      "outputs": []
    },
    {
      "cell_type": "code",
      "metadata": {
        "id": "f0H2ktv4MSdV"
      },
      "source": [
        "s = pd.Series(data, index=index)"
      ],
      "execution_count": null,
      "outputs": []
    },
    {
      "cell_type": "code",
      "metadata": {
        "id": "XFZ5bEEWjkoc"
      },
      "source": [
        "def getLabel():\n",
        "  my_file = open(\"test5\", \"r\")\n",
        "  content_list = my_file.read().splitlines()\n",
        "  #content_list = list(map(int, content_list))\n",
        "  print(type(int(content_list[(0)])))\n",
        "  contentlisti = []\n",
        "  for i in range(len(content_list)):\n",
        "    contentlisti.append(int(content_list[i]))\n",
        "\n",
        "  return contentlisti  \n",
        "\n",
        "#labels = getLabel()"
      ],
      "execution_count": null,
      "outputs": []
    },
    {
      "cell_type": "code",
      "metadata": {
        "colab": {
          "base_uri": "https://localhost:8080/"
        },
        "id": "4c3o1npJAi8u",
        "outputId": "9fb21cb1-20b8-4a4a-992b-6113da633643"
      },
      "source": [
        "labels = np.zeros(2253)\n",
        "a = range(0, 500, 1)\n",
        "b = range(500, 1000, 1)\n",
        "c = range(1000, 1500, 1)\n",
        "d = range(1000, 2253, 1)\n",
        "labels[a] = 1\n",
        "labels[b] = 2\n",
        "labels[c] = 3\n",
        "labels[d] = 4\n",
        "print(labels)"
      ],
      "execution_count": null,
      "outputs": [
        {
          "output_type": "stream",
          "name": "stdout",
          "text": [
            "[1. 1. 1. ... 4. 4. 4.]\n"
          ]
        }
      ]
    },
    {
      "cell_type": "markdown",
      "metadata": {
        "id": "45YtTIPmyktx"
      },
      "source": [
        "#LSTM"
      ]
    },
    {
      "cell_type": "code",
      "metadata": {
        "id": "HNEGS6TO0XrZ"
      },
      "source": [
        "frames = getData()\n",
        "timeseries = frames.to_numpy()"
      ],
      "execution_count": null,
      "outputs": []
    },
    {
      "cell_type": "code",
      "metadata": {
        "id": "BbfcYiT90q_2"
      },
      "source": [
        "def temporalize(X, y, lookback):\n",
        "    output_X = []\n",
        "    output_y = []\n",
        "    for i in range(len(X)-lookback-1):\n",
        "        t = []\n",
        "        for j in range(1,lookback+1):\n",
        "            # Gather past records upto the lookback period\n",
        "            t.append(X[[(i+j+1)], :])\n",
        "        output_X.append(t)\n",
        "        output_y.append(y[i+lookback+1])\n",
        "    return output_X, output_y"
      ],
      "execution_count": null,
      "outputs": []
    },
    {
      "cell_type": "markdown",
      "metadata": {
        "id": "a4c3wyJC07h0"
      },
      "source": [
        "#need Valset"
      ]
    },
    {
      "cell_type": "code",
      "metadata": {
        "id": "NkZf9dtXttQr"
      },
      "source": [
        "timesteps = 1\n",
        "n_features = 4\n",
        "\n",
        "labels = np.asarray(labels)\n",
        "print(timeseries.shape)\n",
        "X, x = temporalize(X = timeseries, y = labels, lookback = timesteps)\n",
        "X = np.array(X)\n",
        "print(X.shape)\n",
        "X = X.reshape(X.shape[0], timesteps, n_features)\n",
        "from keras.utils.np_utils import to_categorical\n",
        "x = to_categorical(x)\n",
        "print(x.shape)\n",
        "\n",
        "X_test = X[-10:]\n",
        "y_test = x[-10:]\n",
        "print(x.shape)\n",
        "print(X.shape)"
      ],
      "execution_count": null,
      "outputs": []
    },
    {
      "cell_type": "code",
      "metadata": {
        "id": "n5HVuP2-OZzL"
      },
      "source": [
        "model = keras.models.Sequential()\n",
        "model.add(keras.layers.LSTM(32, return_sequences=True, stateful=False, input_shape = (timesteps,50)))\n",
        "model.add(keras.layers.LSTM(20))\n",
        "model.add(keras.layers.Dense(5, activation='softmax'))\n",
        "model.compile(loss='categorical_crossentropy', optimizer='adam', metrics=[\"accuracy\"])\n",
        "model.summary()\n",
        "print(\"Train...\")\n",
        "model.fit(X, x, batch_size=8, epochs=500, validation_data=(X_test, y_test))"
      ],
      "execution_count": null,
      "outputs": []
    },
    {
      "cell_type": "code",
      "metadata": {
        "id": "j0un4QnNvryE"
      },
      "source": [
        "filepath = './saved_model'\n",
        "save_model(model, filepath)"
      ],
      "execution_count": null,
      "outputs": []
    },
    {
      "cell_type": "code",
      "metadata": {
        "id": "fguvRsRF0s0g"
      },
      "source": [
        "model = Sequential()\n",
        "model.add(LSTM(128, activation='relu', input_shape=( timesteps,n_features), return_sequences=True))\n",
        "model.add(LSTM(50, activation='relu'))\n",
        "model.add(Dense(5, activation='softmax'))\n",
        "model.compile(optimizer='adam', loss='categorical_crossentropy')\n",
        "model.summary()\n",
        "\n",
        "# fit model\n",
        "model.fit(X, x, epochs=300, batch_size=5, verbose=1,  validation_data=(X_test, y_test))"
      ],
      "execution_count": null,
      "outputs": []
    }
  ]
}